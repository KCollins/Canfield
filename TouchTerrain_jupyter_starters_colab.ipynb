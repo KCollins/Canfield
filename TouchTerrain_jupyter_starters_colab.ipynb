{
  "cells": [
    {
      "cell_type": "markdown",
      "metadata": {
        "id": "gjqE-6zA-yDV"
      },
      "source": [
        "# TouchTerrain jupyter notebook - starter edition, running on Colab\n",
        "Chris Harding, Dec. 15, 2022 (<charding@iastate.edu>)\n",
        "\n",
        "Warning: This is still being tested, especially the Earth Engine Authorization process! Please report bugs to me.\n",
        "\n",
        "- This particular notebook is meant to only be run on Colab. If you're currently NOT running it inside colab, click on this badge: [![Open In Colab](https://colab.research.google.com/assets/colab-badge.svg)](http://colab.research.google.com/github/ChHarding/TouchTerrain_for_CAGEO/blob/master/TouchTerrain_jupyter_starters_colab.ipynb)\n"
      ]
    },
    {
      "cell_type": "markdown",
      "metadata": {
        "id": "w0CcgEqN-cMz"
      },
      "source": [
        "### How to run code inside a notebook\n",
        "\n",
        "- The grey \"window\" below (with [] in the upper left corner) is a *code* cell.\n",
        "- Hovering over the cell will show a circular \"play button\". CLick on it to run the cell's code.\n",
        "- Later, you will need to edit the Python code in a cell. For this, click inside the cell (will show a cursor) and make you edits. You can run an edited cell by pressing Shift + Enter.\n",
        "- You won't see any output for this particular cell but you'll see that the braces in `[ ]` will show a sequential number, which means it's been run. Usually code cells will produce some output, typically text.\n",
        "- Note: the first few cells start with a ! and actually run OS shell commands (like pip) to install things\n",
        "- Lines starting with # contain so-called comments (more about these later) which are only meant to give information to you. Please read them and follow any instructions given!\n",
        "- If you got this notebook from my github repo, you will get a __warning__ when running the first cell - click Run Anyway to continue.\n",
        "- Note that if you're planning to save any edits you're making to a from-github notebook, you should save this notebook now to your own google drive (*File - Save a copy in Drive*), otherwise edits will be lost once you close this browser tab. To later come back and run your edited copy, go to __https://colab.research.google.com/__, click on __Google Drive__ and then on your notebook."
      ]
    },
    {
      "cell_type": "code",
      "execution_count": 1,
      "metadata": {
        "id": "I7HX8VovSTwP",
        "colab": {
          "base_uri": "https://localhost:8080/"
        },
        "outputId": "d7010ca1-8333-4b48-a07f-0146fce34740"
      },
      "outputs": [
        {
          "output_type": "stream",
          "name": "stdout",
          "text": [
            "\u001b[?25l   \u001b[90m━━━━━━━━━━━━━━━━━━━━━━━━━━━━━━━━━━━━━━━━\u001b[0m \u001b[32m0.0/1.6 MB\u001b[0m \u001b[31m?\u001b[0m eta \u001b[36m-:--:--\u001b[0m\r\u001b[2K   \u001b[91m━━━━━━━━━━━━━━━━━━━━━━━━━━━━━━━━━━━\u001b[0m\u001b[91m╸\u001b[0m\u001b[90m━━━━\u001b[0m \u001b[32m1.4/1.6 MB\u001b[0m \u001b[31m44.5 MB/s\u001b[0m eta \u001b[36m0:00:01\u001b[0m\r\u001b[2K   \u001b[90m━━━━━━━━━━━━━━━━━━━━━━━━━━━━━━━━━━━━━━━━\u001b[0m \u001b[32m1.6/1.6 MB\u001b[0m \u001b[31m29.2 MB/s\u001b[0m eta \u001b[36m0:00:00\u001b[0m\n",
            "\u001b[?25h"
          ]
        }
      ],
      "source": [
        "# The following pip commands all have -q (quiet) at the end which hides (most of) their output. Remove the -q if you want to see the details\n",
        "!pip install geemap -q"
      ]
    },
    {
      "cell_type": "code",
      "execution_count": 2,
      "metadata": {
        "id": "IL6ibpGakrFH"
      },
      "outputs": [],
      "source": [
        "# uninstalling flask b/c it leads to version conflicts later and is not needed\n",
        "!pip uninstall flask -y -q"
      ]
    },
    {
      "cell_type": "code",
      "execution_count": 3,
      "metadata": {
        "id": "KeXRz4IEJvn7"
      },
      "outputs": [],
      "source": [
        "!pip install kml2geojson google-api-python-client -q"
      ]
    },
    {
      "cell_type": "code",
      "execution_count": 4,
      "metadata": {
        "id": "Kq-2jLoje0_Q",
        "colab": {
          "base_uri": "https://localhost:8080/"
        },
        "outputId": "7f987171-57c3-479c-927a-b4bbf3123416"
      },
      "outputs": [
        {
          "output_type": "stream",
          "name": "stdout",
          "text": [
            "Collecting git+https://github.com/ChHarding/TouchTerrain_for_CAGEO.git\n",
            "  Cloning https://github.com/ChHarding/TouchTerrain_for_CAGEO.git to /tmp/pip-req-build-25frjskf\n",
            "  Running command git clone --filter=blob:none --quiet https://github.com/ChHarding/TouchTerrain_for_CAGEO.git /tmp/pip-req-build-25frjskf\n",
            "  Resolved https://github.com/ChHarding/TouchTerrain_for_CAGEO.git to commit 9b83a8254ccf41ec35fbc30419e828fafaed45c4\n",
            "  Preparing metadata (setup.py) ... \u001b[?25l\u001b[?25hdone\n",
            "Requirement already satisfied: Pillow>=6.0.0 in /usr/local/lib/python3.11/dist-packages (from touchterrain==3.7.0) (11.3.0)\n",
            "Requirement already satisfied: google-api-python-client>=2.6 in /usr/local/lib/python3.11/dist-packages (from touchterrain==3.7.0) (2.177.0)\n",
            "Requirement already satisfied: earthengine-api>=0.1.232 in /usr/local/lib/python3.11/dist-packages (from touchterrain==3.7.0) (1.5.24)\n",
            "Requirement already satisfied: oauth2client>=4.1.3 in /usr/local/lib/python3.11/dist-packages (from touchterrain==3.7.0) (4.1.3)\n",
            "Requirement already satisfied: numpy>=1.17 in /usr/local/lib/python3.11/dist-packages (from touchterrain==3.7.0) (2.0.2)\n",
            "Requirement already satisfied: scipy>=1.2 in /usr/local/lib/python3.11/dist-packages (from touchterrain==3.7.0) (1.16.0)\n",
            "Requirement already satisfied: kml2geojson>=4.0.2 in /usr/local/lib/python3.11/dist-packages (from touchterrain==3.7.0) (5.1.0)\n",
            "Collecting geojson>=2.5 (from touchterrain==3.7.0)\n",
            "  Downloading geojson-3.2.0-py3-none-any.whl.metadata (16 kB)\n",
            "Requirement already satisfied: defusedxml>=0.6 in /usr/local/lib/python3.11/dist-packages (from touchterrain==3.7.0) (0.7.1)\n",
            "Requirement already satisfied: six>=1.15.0 in /usr/local/lib/python3.11/dist-packages (from touchterrain==3.7.0) (1.17.0)\n",
            "Requirement already satisfied: imageio>=2.36.0 in /usr/local/lib/python3.11/dist-packages (from touchterrain==3.7.0) (2.37.0)\n",
            "Collecting k3d>=2.16.1 (from touchterrain==3.7.0)\n",
            "  Downloading k3d-2.17.0-py3-none-any.whl.metadata (6.9 kB)\n",
            "Requirement already satisfied: httplib2>=0.22.0 in /usr/local/lib/python3.11/dist-packages (from touchterrain==3.7.0) (0.22.0)\n",
            "Requirement already satisfied: matplotlib>=3.9.2 in /usr/local/lib/python3.11/dist-packages (from touchterrain==3.7.0) (3.10.0)\n",
            "Requirement already satisfied: google-cloud-storage in /usr/local/lib/python3.11/dist-packages (from earthengine-api>=0.1.232->touchterrain==3.7.0) (2.19.0)\n",
            "Requirement already satisfied: google-auth>=1.4.1 in /usr/local/lib/python3.11/dist-packages (from earthengine-api>=0.1.232->touchterrain==3.7.0) (2.38.0)\n",
            "Requirement already satisfied: google-auth-httplib2>=0.0.3 in /usr/local/lib/python3.11/dist-packages (from earthengine-api>=0.1.232->touchterrain==3.7.0) (0.2.0)\n",
            "Requirement already satisfied: requests in /usr/local/lib/python3.11/dist-packages (from earthengine-api>=0.1.232->touchterrain==3.7.0) (2.32.3)\n",
            "Requirement already satisfied: google-api-core!=2.0.*,!=2.1.*,!=2.2.*,!=2.3.0,<3.0.0,>=1.31.5 in /usr/local/lib/python3.11/dist-packages (from google-api-python-client>=2.6->touchterrain==3.7.0) (2.25.1)\n",
            "Requirement already satisfied: uritemplate<5,>=3.0.1 in /usr/local/lib/python3.11/dist-packages (from google-api-python-client>=2.6->touchterrain==3.7.0) (4.2.0)\n",
            "Requirement already satisfied: pyparsing!=3.0.0,!=3.0.1,!=3.0.2,!=3.0.3,<4,>=2.4.2 in /usr/local/lib/python3.11/dist-packages (from httplib2>=0.22.0->touchterrain==3.7.0) (3.2.3)\n",
            "Collecting deepcomparer (from k3d>=2.16.1->touchterrain==3.7.0)\n",
            "  Downloading deepcomparer-0.4.0-py3-none-any.whl.metadata (2.7 kB)\n",
            "Requirement already satisfied: ipywidgets<9.0.0,>=7.0.0 in /usr/local/lib/python3.11/dist-packages (from k3d>=2.16.1->touchterrain==3.7.0) (7.7.1)\n",
            "Requirement already satisfied: msgpack in /usr/local/lib/python3.11/dist-packages (from k3d>=2.16.1->touchterrain==3.7.0) (1.1.1)\n",
            "Requirement already satisfied: traitlets in /usr/local/lib/python3.11/dist-packages (from k3d>=2.16.1->touchterrain==3.7.0) (5.7.1)\n",
            "Requirement already satisfied: traittypes in /usr/local/lib/python3.11/dist-packages (from k3d>=2.16.1->touchterrain==3.7.0) (0.2.1)\n",
            "Requirement already satisfied: click>=8.0.1 in /usr/local/lib/python3.11/dist-packages (from kml2geojson>=4.0.2->touchterrain==3.7.0) (8.2.1)\n",
            "Requirement already satisfied: contourpy>=1.0.1 in /usr/local/lib/python3.11/dist-packages (from matplotlib>=3.9.2->touchterrain==3.7.0) (1.3.2)\n",
            "Requirement already satisfied: cycler>=0.10 in /usr/local/lib/python3.11/dist-packages (from matplotlib>=3.9.2->touchterrain==3.7.0) (0.12.1)\n",
            "Requirement already satisfied: fonttools>=4.22.0 in /usr/local/lib/python3.11/dist-packages (from matplotlib>=3.9.2->touchterrain==3.7.0) (4.59.0)\n",
            "Requirement already satisfied: kiwisolver>=1.3.1 in /usr/local/lib/python3.11/dist-packages (from matplotlib>=3.9.2->touchterrain==3.7.0) (1.4.8)\n",
            "Requirement already satisfied: packaging>=20.0 in /usr/local/lib/python3.11/dist-packages (from matplotlib>=3.9.2->touchterrain==3.7.0) (25.0)\n",
            "Requirement already satisfied: python-dateutil>=2.7 in /usr/local/lib/python3.11/dist-packages (from matplotlib>=3.9.2->touchterrain==3.7.0) (2.9.0.post0)\n",
            "Requirement already satisfied: pyasn1>=0.1.7 in /usr/local/lib/python3.11/dist-packages (from oauth2client>=4.1.3->touchterrain==3.7.0) (0.6.1)\n",
            "Requirement already satisfied: pyasn1-modules>=0.0.5 in /usr/local/lib/python3.11/dist-packages (from oauth2client>=4.1.3->touchterrain==3.7.0) (0.4.2)\n",
            "Requirement already satisfied: rsa>=3.1.4 in /usr/local/lib/python3.11/dist-packages (from oauth2client>=4.1.3->touchterrain==3.7.0) (4.9.1)\n",
            "Requirement already satisfied: googleapis-common-protos<2.0.0,>=1.56.2 in /usr/local/lib/python3.11/dist-packages (from google-api-core!=2.0.*,!=2.1.*,!=2.2.*,!=2.3.0,<3.0.0,>=1.31.5->google-api-python-client>=2.6->touchterrain==3.7.0) (1.70.0)\n",
            "Requirement already satisfied: protobuf!=3.20.0,!=3.20.1,!=4.21.0,!=4.21.1,!=4.21.2,!=4.21.3,!=4.21.4,!=4.21.5,<7.0.0,>=3.19.5 in /usr/local/lib/python3.11/dist-packages (from google-api-core!=2.0.*,!=2.1.*,!=2.2.*,!=2.3.0,<3.0.0,>=1.31.5->google-api-python-client>=2.6->touchterrain==3.7.0) (5.29.5)\n",
            "Requirement already satisfied: proto-plus<2.0.0,>=1.22.3 in /usr/local/lib/python3.11/dist-packages (from google-api-core!=2.0.*,!=2.1.*,!=2.2.*,!=2.3.0,<3.0.0,>=1.31.5->google-api-python-client>=2.6->touchterrain==3.7.0) (1.26.1)\n",
            "Requirement already satisfied: cachetools<6.0,>=2.0.0 in /usr/local/lib/python3.11/dist-packages (from google-auth>=1.4.1->earthengine-api>=0.1.232->touchterrain==3.7.0) (5.5.2)\n",
            "Requirement already satisfied: ipykernel>=4.5.1 in /usr/local/lib/python3.11/dist-packages (from ipywidgets<9.0.0,>=7.0.0->k3d>=2.16.1->touchterrain==3.7.0) (6.17.1)\n",
            "Requirement already satisfied: ipython-genutils~=0.2.0 in /usr/local/lib/python3.11/dist-packages (from ipywidgets<9.0.0,>=7.0.0->k3d>=2.16.1->touchterrain==3.7.0) (0.2.0)\n",
            "Requirement already satisfied: widgetsnbextension~=3.6.0 in /usr/local/lib/python3.11/dist-packages (from ipywidgets<9.0.0,>=7.0.0->k3d>=2.16.1->touchterrain==3.7.0) (3.6.10)\n",
            "Requirement already satisfied: ipython>=4.0.0 in /usr/local/lib/python3.11/dist-packages (from ipywidgets<9.0.0,>=7.0.0->k3d>=2.16.1->touchterrain==3.7.0) (7.34.0)\n",
            "Requirement already satisfied: jupyterlab-widgets>=1.0.0 in /usr/local/lib/python3.11/dist-packages (from ipywidgets<9.0.0,>=7.0.0->k3d>=2.16.1->touchterrain==3.7.0) (3.0.15)\n",
            "Requirement already satisfied: charset-normalizer<4,>=2 in /usr/local/lib/python3.11/dist-packages (from requests->earthengine-api>=0.1.232->touchterrain==3.7.0) (3.4.2)\n",
            "Requirement already satisfied: idna<4,>=2.5 in /usr/local/lib/python3.11/dist-packages (from requests->earthengine-api>=0.1.232->touchterrain==3.7.0) (3.10)\n",
            "Requirement already satisfied: urllib3<3,>=1.21.1 in /usr/local/lib/python3.11/dist-packages (from requests->earthengine-api>=0.1.232->touchterrain==3.7.0) (2.5.0)\n",
            "Requirement already satisfied: certifi>=2017.4.17 in /usr/local/lib/python3.11/dist-packages (from requests->earthengine-api>=0.1.232->touchterrain==3.7.0) (2025.7.14)\n",
            "Requirement already satisfied: google-cloud-core<3.0dev,>=2.3.0 in /usr/local/lib/python3.11/dist-packages (from google-cloud-storage->earthengine-api>=0.1.232->touchterrain==3.7.0) (2.4.3)\n",
            "Requirement already satisfied: google-resumable-media>=2.7.2 in /usr/local/lib/python3.11/dist-packages (from google-cloud-storage->earthengine-api>=0.1.232->touchterrain==3.7.0) (2.7.2)\n",
            "Requirement already satisfied: google-crc32c<2.0dev,>=1.0 in /usr/local/lib/python3.11/dist-packages (from google-cloud-storage->earthengine-api>=0.1.232->touchterrain==3.7.0) (1.7.1)\n",
            "Requirement already satisfied: debugpy>=1.0 in /usr/local/lib/python3.11/dist-packages (from ipykernel>=4.5.1->ipywidgets<9.0.0,>=7.0.0->k3d>=2.16.1->touchterrain==3.7.0) (1.8.15)\n",
            "Requirement already satisfied: jupyter-client>=6.1.12 in /usr/local/lib/python3.11/dist-packages (from ipykernel>=4.5.1->ipywidgets<9.0.0,>=7.0.0->k3d>=2.16.1->touchterrain==3.7.0) (6.1.12)\n",
            "Requirement already satisfied: matplotlib-inline>=0.1 in /usr/local/lib/python3.11/dist-packages (from ipykernel>=4.5.1->ipywidgets<9.0.0,>=7.0.0->k3d>=2.16.1->touchterrain==3.7.0) (0.1.7)\n",
            "Requirement already satisfied: nest-asyncio in /usr/local/lib/python3.11/dist-packages (from ipykernel>=4.5.1->ipywidgets<9.0.0,>=7.0.0->k3d>=2.16.1->touchterrain==3.7.0) (1.6.0)\n",
            "Requirement already satisfied: psutil in /usr/local/lib/python3.11/dist-packages (from ipykernel>=4.5.1->ipywidgets<9.0.0,>=7.0.0->k3d>=2.16.1->touchterrain==3.7.0) (5.9.5)\n",
            "Requirement already satisfied: pyzmq>=17 in /usr/local/lib/python3.11/dist-packages (from ipykernel>=4.5.1->ipywidgets<9.0.0,>=7.0.0->k3d>=2.16.1->touchterrain==3.7.0) (26.2.1)\n",
            "Requirement already satisfied: tornado>=6.1 in /usr/local/lib/python3.11/dist-packages (from ipykernel>=4.5.1->ipywidgets<9.0.0,>=7.0.0->k3d>=2.16.1->touchterrain==3.7.0) (6.4.2)\n",
            "Requirement already satisfied: setuptools>=18.5 in /usr/local/lib/python3.11/dist-packages (from ipython>=4.0.0->ipywidgets<9.0.0,>=7.0.0->k3d>=2.16.1->touchterrain==3.7.0) (75.2.0)\n",
            "Requirement already satisfied: jedi>=0.16 in /usr/local/lib/python3.11/dist-packages (from ipython>=4.0.0->ipywidgets<9.0.0,>=7.0.0->k3d>=2.16.1->touchterrain==3.7.0) (0.19.2)\n",
            "Requirement already satisfied: decorator in /usr/local/lib/python3.11/dist-packages (from ipython>=4.0.0->ipywidgets<9.0.0,>=7.0.0->k3d>=2.16.1->touchterrain==3.7.0) (4.4.2)\n",
            "Requirement already satisfied: pickleshare in /usr/local/lib/python3.11/dist-packages (from ipython>=4.0.0->ipywidgets<9.0.0,>=7.0.0->k3d>=2.16.1->touchterrain==3.7.0) (0.7.5)\n",
            "Requirement already satisfied: prompt-toolkit!=3.0.0,!=3.0.1,<3.1.0,>=2.0.0 in /usr/local/lib/python3.11/dist-packages (from ipython>=4.0.0->ipywidgets<9.0.0,>=7.0.0->k3d>=2.16.1->touchterrain==3.7.0) (3.0.51)\n",
            "Requirement already satisfied: pygments in /usr/local/lib/python3.11/dist-packages (from ipython>=4.0.0->ipywidgets<9.0.0,>=7.0.0->k3d>=2.16.1->touchterrain==3.7.0) (2.19.2)\n",
            "Requirement already satisfied: backcall in /usr/local/lib/python3.11/dist-packages (from ipython>=4.0.0->ipywidgets<9.0.0,>=7.0.0->k3d>=2.16.1->touchterrain==3.7.0) (0.2.0)\n",
            "Requirement already satisfied: pexpect>4.3 in /usr/local/lib/python3.11/dist-packages (from ipython>=4.0.0->ipywidgets<9.0.0,>=7.0.0->k3d>=2.16.1->touchterrain==3.7.0) (4.9.0)\n",
            "Requirement already satisfied: notebook>=4.4.1 in /usr/local/lib/python3.11/dist-packages (from widgetsnbextension~=3.6.0->ipywidgets<9.0.0,>=7.0.0->k3d>=2.16.1->touchterrain==3.7.0) (6.5.7)\n",
            "Requirement already satisfied: parso<0.9.0,>=0.8.4 in /usr/local/lib/python3.11/dist-packages (from jedi>=0.16->ipython>=4.0.0->ipywidgets<9.0.0,>=7.0.0->k3d>=2.16.1->touchterrain==3.7.0) (0.8.4)\n",
            "Requirement already satisfied: jupyter-core>=4.6.0 in /usr/local/lib/python3.11/dist-packages (from jupyter-client>=6.1.12->ipykernel>=4.5.1->ipywidgets<9.0.0,>=7.0.0->k3d>=2.16.1->touchterrain==3.7.0) (5.8.1)\n",
            "Requirement already satisfied: jinja2 in /usr/local/lib/python3.11/dist-packages (from notebook>=4.4.1->widgetsnbextension~=3.6.0->ipywidgets<9.0.0,>=7.0.0->k3d>=2.16.1->touchterrain==3.7.0) (3.1.6)\n",
            "Requirement already satisfied: argon2-cffi in /usr/local/lib/python3.11/dist-packages (from notebook>=4.4.1->widgetsnbextension~=3.6.0->ipywidgets<9.0.0,>=7.0.0->k3d>=2.16.1->touchterrain==3.7.0) (25.1.0)\n",
            "Requirement already satisfied: nbformat in /usr/local/lib/python3.11/dist-packages (from notebook>=4.4.1->widgetsnbextension~=3.6.0->ipywidgets<9.0.0,>=7.0.0->k3d>=2.16.1->touchterrain==3.7.0) (5.10.4)\n",
            "Requirement already satisfied: nbconvert>=5 in /usr/local/lib/python3.11/dist-packages (from notebook>=4.4.1->widgetsnbextension~=3.6.0->ipywidgets<9.0.0,>=7.0.0->k3d>=2.16.1->touchterrain==3.7.0) (7.16.6)\n",
            "Requirement already satisfied: Send2Trash>=1.8.0 in /usr/local/lib/python3.11/dist-packages (from notebook>=4.4.1->widgetsnbextension~=3.6.0->ipywidgets<9.0.0,>=7.0.0->k3d>=2.16.1->touchterrain==3.7.0) (1.8.3)\n",
            "Requirement already satisfied: terminado>=0.8.3 in /usr/local/lib/python3.11/dist-packages (from notebook>=4.4.1->widgetsnbextension~=3.6.0->ipywidgets<9.0.0,>=7.0.0->k3d>=2.16.1->touchterrain==3.7.0) (0.18.1)\n",
            "Requirement already satisfied: prometheus-client in /usr/local/lib/python3.11/dist-packages (from notebook>=4.4.1->widgetsnbextension~=3.6.0->ipywidgets<9.0.0,>=7.0.0->k3d>=2.16.1->touchterrain==3.7.0) (0.22.1)\n",
            "Requirement already satisfied: nbclassic>=0.4.7 in /usr/local/lib/python3.11/dist-packages (from notebook>=4.4.1->widgetsnbextension~=3.6.0->ipywidgets<9.0.0,>=7.0.0->k3d>=2.16.1->touchterrain==3.7.0) (1.3.1)\n",
            "Requirement already satisfied: ptyprocess>=0.5 in /usr/local/lib/python3.11/dist-packages (from pexpect>4.3->ipython>=4.0.0->ipywidgets<9.0.0,>=7.0.0->k3d>=2.16.1->touchterrain==3.7.0) (0.7.0)\n",
            "Requirement already satisfied: wcwidth in /usr/local/lib/python3.11/dist-packages (from prompt-toolkit!=3.0.0,!=3.0.1,<3.1.0,>=2.0.0->ipython>=4.0.0->ipywidgets<9.0.0,>=7.0.0->k3d>=2.16.1->touchterrain==3.7.0) (0.2.13)\n",
            "Requirement already satisfied: platformdirs>=2.5 in /usr/local/lib/python3.11/dist-packages (from jupyter-core>=4.6.0->jupyter-client>=6.1.12->ipykernel>=4.5.1->ipywidgets<9.0.0,>=7.0.0->k3d>=2.16.1->touchterrain==3.7.0) (4.3.8)\n",
            "Requirement already satisfied: notebook-shim>=0.2.3 in /usr/local/lib/python3.11/dist-packages (from nbclassic>=0.4.7->notebook>=4.4.1->widgetsnbextension~=3.6.0->ipywidgets<9.0.0,>=7.0.0->k3d>=2.16.1->touchterrain==3.7.0) (0.2.4)\n",
            "Requirement already satisfied: beautifulsoup4 in /usr/local/lib/python3.11/dist-packages (from nbconvert>=5->notebook>=4.4.1->widgetsnbextension~=3.6.0->ipywidgets<9.0.0,>=7.0.0->k3d>=2.16.1->touchterrain==3.7.0) (4.13.4)\n",
            "Requirement already satisfied: bleach!=5.0.0 in /usr/local/lib/python3.11/dist-packages (from bleach[css]!=5.0.0->nbconvert>=5->notebook>=4.4.1->widgetsnbextension~=3.6.0->ipywidgets<9.0.0,>=7.0.0->k3d>=2.16.1->touchterrain==3.7.0) (6.2.0)\n",
            "Requirement already satisfied: jupyterlab-pygments in /usr/local/lib/python3.11/dist-packages (from nbconvert>=5->notebook>=4.4.1->widgetsnbextension~=3.6.0->ipywidgets<9.0.0,>=7.0.0->k3d>=2.16.1->touchterrain==3.7.0) (0.3.0)\n",
            "Requirement already satisfied: markupsafe>=2.0 in /usr/local/lib/python3.11/dist-packages (from nbconvert>=5->notebook>=4.4.1->widgetsnbextension~=3.6.0->ipywidgets<9.0.0,>=7.0.0->k3d>=2.16.1->touchterrain==3.7.0) (3.0.2)\n",
            "Requirement already satisfied: mistune<4,>=2.0.3 in /usr/local/lib/python3.11/dist-packages (from nbconvert>=5->notebook>=4.4.1->widgetsnbextension~=3.6.0->ipywidgets<9.0.0,>=7.0.0->k3d>=2.16.1->touchterrain==3.7.0) (3.1.3)\n",
            "Requirement already satisfied: nbclient>=0.5.0 in /usr/local/lib/python3.11/dist-packages (from nbconvert>=5->notebook>=4.4.1->widgetsnbextension~=3.6.0->ipywidgets<9.0.0,>=7.0.0->k3d>=2.16.1->touchterrain==3.7.0) (0.10.2)\n",
            "Requirement already satisfied: pandocfilters>=1.4.1 in /usr/local/lib/python3.11/dist-packages (from nbconvert>=5->notebook>=4.4.1->widgetsnbextension~=3.6.0->ipywidgets<9.0.0,>=7.0.0->k3d>=2.16.1->touchterrain==3.7.0) (1.5.1)\n",
            "Requirement already satisfied: fastjsonschema>=2.15 in /usr/local/lib/python3.11/dist-packages (from nbformat->notebook>=4.4.1->widgetsnbextension~=3.6.0->ipywidgets<9.0.0,>=7.0.0->k3d>=2.16.1->touchterrain==3.7.0) (2.21.1)\n",
            "Requirement already satisfied: jsonschema>=2.6 in /usr/local/lib/python3.11/dist-packages (from nbformat->notebook>=4.4.1->widgetsnbextension~=3.6.0->ipywidgets<9.0.0,>=7.0.0->k3d>=2.16.1->touchterrain==3.7.0) (4.25.0)\n",
            "Requirement already satisfied: argon2-cffi-bindings in /usr/local/lib/python3.11/dist-packages (from argon2-cffi->notebook>=4.4.1->widgetsnbextension~=3.6.0->ipywidgets<9.0.0,>=7.0.0->k3d>=2.16.1->touchterrain==3.7.0) (21.2.0)\n",
            "Requirement already satisfied: webencodings in /usr/local/lib/python3.11/dist-packages (from bleach!=5.0.0->bleach[css]!=5.0.0->nbconvert>=5->notebook>=4.4.1->widgetsnbextension~=3.6.0->ipywidgets<9.0.0,>=7.0.0->k3d>=2.16.1->touchterrain==3.7.0) (0.5.1)\n",
            "Requirement already satisfied: tinycss2<1.5,>=1.1.0 in /usr/local/lib/python3.11/dist-packages (from bleach[css]!=5.0.0->nbconvert>=5->notebook>=4.4.1->widgetsnbextension~=3.6.0->ipywidgets<9.0.0,>=7.0.0->k3d>=2.16.1->touchterrain==3.7.0) (1.4.0)\n",
            "Requirement already satisfied: attrs>=22.2.0 in /usr/local/lib/python3.11/dist-packages (from jsonschema>=2.6->nbformat->notebook>=4.4.1->widgetsnbextension~=3.6.0->ipywidgets<9.0.0,>=7.0.0->k3d>=2.16.1->touchterrain==3.7.0) (25.3.0)\n",
            "Requirement already satisfied: jsonschema-specifications>=2023.03.6 in /usr/local/lib/python3.11/dist-packages (from jsonschema>=2.6->nbformat->notebook>=4.4.1->widgetsnbextension~=3.6.0->ipywidgets<9.0.0,>=7.0.0->k3d>=2.16.1->touchterrain==3.7.0) (2025.4.1)\n",
            "Requirement already satisfied: referencing>=0.28.4 in /usr/local/lib/python3.11/dist-packages (from jsonschema>=2.6->nbformat->notebook>=4.4.1->widgetsnbextension~=3.6.0->ipywidgets<9.0.0,>=7.0.0->k3d>=2.16.1->touchterrain==3.7.0) (0.36.2)\n",
            "Requirement already satisfied: rpds-py>=0.7.1 in /usr/local/lib/python3.11/dist-packages (from jsonschema>=2.6->nbformat->notebook>=4.4.1->widgetsnbextension~=3.6.0->ipywidgets<9.0.0,>=7.0.0->k3d>=2.16.1->touchterrain==3.7.0) (0.26.0)\n",
            "Requirement already satisfied: jupyter-server<3,>=1.8 in /usr/local/lib/python3.11/dist-packages (from notebook-shim>=0.2.3->nbclassic>=0.4.7->notebook>=4.4.1->widgetsnbextension~=3.6.0->ipywidgets<9.0.0,>=7.0.0->k3d>=2.16.1->touchterrain==3.7.0) (1.16.0)\n",
            "Requirement already satisfied: cffi>=1.0.1 in /usr/local/lib/python3.11/dist-packages (from argon2-cffi-bindings->argon2-cffi->notebook>=4.4.1->widgetsnbextension~=3.6.0->ipywidgets<9.0.0,>=7.0.0->k3d>=2.16.1->touchterrain==3.7.0) (1.17.1)\n",
            "Requirement already satisfied: soupsieve>1.2 in /usr/local/lib/python3.11/dist-packages (from beautifulsoup4->nbconvert>=5->notebook>=4.4.1->widgetsnbextension~=3.6.0->ipywidgets<9.0.0,>=7.0.0->k3d>=2.16.1->touchterrain==3.7.0) (2.7)\n",
            "Requirement already satisfied: typing-extensions>=4.0.0 in /usr/local/lib/python3.11/dist-packages (from beautifulsoup4->nbconvert>=5->notebook>=4.4.1->widgetsnbextension~=3.6.0->ipywidgets<9.0.0,>=7.0.0->k3d>=2.16.1->touchterrain==3.7.0) (4.14.1)\n",
            "Requirement already satisfied: pycparser in /usr/local/lib/python3.11/dist-packages (from cffi>=1.0.1->argon2-cffi-bindings->argon2-cffi->notebook>=4.4.1->widgetsnbextension~=3.6.0->ipywidgets<9.0.0,>=7.0.0->k3d>=2.16.1->touchterrain==3.7.0) (2.22)\n",
            "Requirement already satisfied: anyio>=3.1.0 in /usr/local/lib/python3.11/dist-packages (from jupyter-server<3,>=1.8->notebook-shim>=0.2.3->nbclassic>=0.4.7->notebook>=4.4.1->widgetsnbextension~=3.6.0->ipywidgets<9.0.0,>=7.0.0->k3d>=2.16.1->touchterrain==3.7.0) (4.9.0)\n",
            "Requirement already satisfied: websocket-client in /usr/local/lib/python3.11/dist-packages (from jupyter-server<3,>=1.8->notebook-shim>=0.2.3->nbclassic>=0.4.7->notebook>=4.4.1->widgetsnbextension~=3.6.0->ipywidgets<9.0.0,>=7.0.0->k3d>=2.16.1->touchterrain==3.7.0) (1.8.0)\n",
            "Requirement already satisfied: sniffio>=1.1 in /usr/local/lib/python3.11/dist-packages (from anyio>=3.1.0->jupyter-server<3,>=1.8->notebook-shim>=0.2.3->nbclassic>=0.4.7->notebook>=4.4.1->widgetsnbextension~=3.6.0->ipywidgets<9.0.0,>=7.0.0->k3d>=2.16.1->touchterrain==3.7.0) (1.3.1)\n",
            "Downloading geojson-3.2.0-py3-none-any.whl (15 kB)\n",
            "Downloading k3d-2.17.0-py3-none-any.whl (28.2 MB)\n",
            "\u001b[2K   \u001b[90m━━━━━━━━━━━━━━━━━━━━━━━━━━━━━━━━━━━━━━━━\u001b[0m \u001b[32m28.2/28.2 MB\u001b[0m \u001b[31m57.3 MB/s\u001b[0m eta \u001b[36m0:00:00\u001b[0m\n",
            "\u001b[?25hDownloading deepcomparer-0.4.0-py3-none-any.whl (3.6 kB)\n",
            "Building wheels for collected packages: touchterrain\n",
            "  Building wheel for touchterrain (setup.py) ... \u001b[?25l\u001b[?25hdone\n",
            "  Created wheel for touchterrain: filename=touchterrain-3.7.0-py3-none-any.whl size=79505 sha256=9289bacf5ab8e7149e309aebf96aac256c7d187e0b747fc25ba9766d2e152157\n",
            "  Stored in directory: /tmp/pip-ephem-wheel-cache-reysxyrd/wheels/73/71/ad/dd94d0b423e39001d4ded5798a28eb6cfa3cf94fbfe3f3c37a\n",
            "Successfully built touchterrain\n",
            "Installing collected packages: geojson, deepcomparer, k3d, touchterrain\n",
            "Successfully installed deepcomparer-0.4.0 geojson-3.2.0 k3d-2.17.0 touchterrain-3.7.0\n"
          ]
        }
      ],
      "source": [
        "# installing the touchterrain module from github\n",
        "!pip install git+https://github.com/ChHarding/TouchTerrain_for_CAGEO.git"
      ]
    },
    {
      "cell_type": "code",
      "execution_count": 5,
      "metadata": {
        "id": "Ace9MXIys9dr",
        "colab": {
          "base_uri": "https://localhost:8080/"
        },
        "outputId": "7d4494e6-60bb-4d3b-eda2-49bab49c81a3"
      },
      "outputs": [
        {
          "output_type": "stream",
          "name": "stdout",
          "text": [
            "  % Total    % Received % Xferd  Average Speed   Time    Time     Time  Current\n",
            "                                 Dload  Upload   Total   Spent    Left  Speed\n",
            "  0     0    0     0    0     0      0      0 --:--:-- --:--:-- --:--:--     0\n",
            "100  484k  100  484k    0     0   946k      0 --:--:-- --:--:-- --:--:--  946k\n",
            "  % Total    % Received % Xferd  Average Speed   Time    Time     Time  Current\n",
            "                                 Dload  Upload   Total   Spent    Left  Speed\n",
            "100   162  100   162    0     0   1408      0 --:--:-- --:--:-- --:--:--  1408\n",
            "100   357  100   357    0     0   1033      0 --:--:-- --:--:-- --:--:--  1033\n",
            "  0     0    0     0    0     0      0      0 --:--:--  0:00:01 --:--:--     0\n",
            "  0     0    0     0    0     0      0      0 --:--:--  0:00:02 --:--:--     0Warning: Failed to create the file BedMachine_surface_downsampled10km.tif: \n",
            "Warning: File exists\n",
            "  0     0    0     0    0     0      0      0 --:--:--  0:00:02 --:--:--     0\n",
            "curl: (23) Failed writing header\n",
            "  % Total    % Received % Xferd  Average Speed   Time    Time     Time  Current\n",
            "                                 Dload  Upload   Total   Spent    Left  Speed\n",
            "100   357  100   357    0     0    990      0 --:--:-- --:--:-- --:--:--   991\n",
            "  0     0    0     0    0     0      0      0 --:--:--  0:00:02 --:--:--     0\n",
            "100  178M  100  178M    0     0  25.3M      0  0:00:07  0:00:07 --:--:-- 49.6M\n",
            "  % Total    % Received % Xferd  Average Speed   Time    Time     Time  Current\n",
            "                                 Dload  Upload   Total   Spent    Left  Speed\n",
            "  0     0    0     0    0     0      0      0 --:--:-- --:--:-- --:--:--     0\n",
            "100  407k  100  407k    0     0   594k      0 --:--:-- --:--:-- --:--:--  594k\n",
            "  % Total    % Received % Xferd  Average Speed   Time    Time     Time  Current\n",
            "                                 Dload  Upload   Total   Spent    Left  Speed\n",
            "  0     0    0     0    0     0      0      0 --:--:-- --:--:-- --:--:--     0\n",
            "100  2536  100  2536    0     0   3484      0 --:--:-- --:--:-- --:--:-- 16256\n"
          ]
        }
      ],
      "source": [
        "# Download some example files, these will eventually show up in the Files tab on the left\n",
        "# More on how to use these later\n",
        "\n",
        "# Example local geotiff DEM file\n",
        "!curl -LJO https://github.com/ChHarding/TouchTerrain_for_CAGEO/raw/master/stuff/geotiff_example.tif\n",
        "!curl -LJO osf.io/download/362k9/ # BedMachine_surface_downsampled10 -Greenland\n",
        "!curl -LJO https://osf.io/download/688d9674bf542d3a81e3ceaf/ # the other Greenland one\n",
        "\n",
        "# Example of a gpx path (trail\n",
        "!curl -LJO https://github.com/ChHarding/TouchTerrain_for_CAGEO/raw/master/stuff/gpx-test/example_path.gpx\n",
        "\n",
        "# Example of kml polygon file\n",
        "!curl -LJO https://github.com/ChHarding/TouchTerrain_for_CAGEO/raw/master/stuff/polygon_example.kml"
      ]
    },
    {
      "cell_type": "code",
      "execution_count": 6,
      "metadata": {
        "id": "to3DxZRjQZ5E",
        "colab": {
          "base_uri": "https://localhost:8080/",
          "height": 322
        },
        "outputId": "e19cc395-d5cb-4505-d73d-34bffccfa7f7"
      },
      "outputs": [
        {
          "output_type": "error",
          "ename": "MessageError",
          "evalue": "Error: credential propagation was unsuccessful",
          "traceback": [
            "\u001b[0;31m---------------------------------------------------------------------------\u001b[0m",
            "\u001b[0;31mMessageError\u001b[0m                              Traceback (most recent call last)",
            "\u001b[0;32m/tmp/ipython-input-2916697030.py\u001b[0m in \u001b[0;36m<cell line: 0>\u001b[0;34m()\u001b[0m\n\u001b[1;32m      2\u001b[0m \u001b[0;31m# You should see your google drive folder as drive/MyDrive in the File tab on the left\u001b[0m\u001b[0;34m\u001b[0m\u001b[0;34m\u001b[0m\u001b[0m\n\u001b[1;32m      3\u001b[0m \u001b[0;32mfrom\u001b[0m \u001b[0mgoogle\u001b[0m\u001b[0;34m.\u001b[0m\u001b[0mcolab\u001b[0m \u001b[0;32mimport\u001b[0m \u001b[0mdrive\u001b[0m\u001b[0;34m\u001b[0m\u001b[0;34m\u001b[0m\u001b[0m\n\u001b[0;32m----> 4\u001b[0;31m \u001b[0mdrive\u001b[0m\u001b[0;34m.\u001b[0m\u001b[0mmount\u001b[0m\u001b[0;34m(\u001b[0m\u001b[0;34m'/content/drive'\u001b[0m\u001b[0;34m)\u001b[0m\u001b[0;34m\u001b[0m\u001b[0;34m\u001b[0m\u001b[0m\n\u001b[0m",
            "\u001b[0;32m/usr/local/lib/python3.11/dist-packages/google/colab/drive.py\u001b[0m in \u001b[0;36mmount\u001b[0;34m(mountpoint, force_remount, timeout_ms, readonly)\u001b[0m\n\u001b[1;32m     98\u001b[0m \u001b[0;32mdef\u001b[0m \u001b[0mmount\u001b[0m\u001b[0;34m(\u001b[0m\u001b[0mmountpoint\u001b[0m\u001b[0;34m,\u001b[0m \u001b[0mforce_remount\u001b[0m\u001b[0;34m=\u001b[0m\u001b[0;32mFalse\u001b[0m\u001b[0;34m,\u001b[0m \u001b[0mtimeout_ms\u001b[0m\u001b[0;34m=\u001b[0m\u001b[0;36m120000\u001b[0m\u001b[0;34m,\u001b[0m \u001b[0mreadonly\u001b[0m\u001b[0;34m=\u001b[0m\u001b[0;32mFalse\u001b[0m\u001b[0;34m)\u001b[0m\u001b[0;34m:\u001b[0m\u001b[0;34m\u001b[0m\u001b[0;34m\u001b[0m\u001b[0m\n\u001b[1;32m     99\u001b[0m   \u001b[0;34m\"\"\"Mount your Google Drive at the specified mountpoint path.\"\"\"\u001b[0m\u001b[0;34m\u001b[0m\u001b[0;34m\u001b[0m\u001b[0m\n\u001b[0;32m--> 100\u001b[0;31m   return _mount(\n\u001b[0m\u001b[1;32m    101\u001b[0m       \u001b[0mmountpoint\u001b[0m\u001b[0;34m,\u001b[0m\u001b[0;34m\u001b[0m\u001b[0;34m\u001b[0m\u001b[0m\n\u001b[1;32m    102\u001b[0m       \u001b[0mforce_remount\u001b[0m\u001b[0;34m=\u001b[0m\u001b[0mforce_remount\u001b[0m\u001b[0;34m,\u001b[0m\u001b[0;34m\u001b[0m\u001b[0;34m\u001b[0m\u001b[0m\n",
            "\u001b[0;32m/usr/local/lib/python3.11/dist-packages/google/colab/drive.py\u001b[0m in \u001b[0;36m_mount\u001b[0;34m(mountpoint, force_remount, timeout_ms, ephemeral, readonly)\u001b[0m\n\u001b[1;32m    135\u001b[0m   )\n\u001b[1;32m    136\u001b[0m   \u001b[0;32mif\u001b[0m \u001b[0mephemeral\u001b[0m\u001b[0;34m:\u001b[0m\u001b[0;34m\u001b[0m\u001b[0;34m\u001b[0m\u001b[0m\n\u001b[0;32m--> 137\u001b[0;31m     _message.blocking_request(\n\u001b[0m\u001b[1;32m    138\u001b[0m         \u001b[0;34m'request_auth'\u001b[0m\u001b[0;34m,\u001b[0m\u001b[0;34m\u001b[0m\u001b[0;34m\u001b[0m\u001b[0m\n\u001b[1;32m    139\u001b[0m         \u001b[0mrequest\u001b[0m\u001b[0;34m=\u001b[0m\u001b[0;34m{\u001b[0m\u001b[0;34m'authType'\u001b[0m\u001b[0;34m:\u001b[0m \u001b[0;34m'dfs_ephemeral'\u001b[0m\u001b[0;34m}\u001b[0m\u001b[0;34m,\u001b[0m\u001b[0;34m\u001b[0m\u001b[0;34m\u001b[0m\u001b[0m\n",
            "\u001b[0;32m/usr/local/lib/python3.11/dist-packages/google/colab/_message.py\u001b[0m in \u001b[0;36mblocking_request\u001b[0;34m(request_type, request, timeout_sec, parent)\u001b[0m\n\u001b[1;32m    174\u001b[0m       \u001b[0mrequest_type\u001b[0m\u001b[0;34m,\u001b[0m \u001b[0mrequest\u001b[0m\u001b[0;34m,\u001b[0m \u001b[0mparent\u001b[0m\u001b[0;34m=\u001b[0m\u001b[0mparent\u001b[0m\u001b[0;34m,\u001b[0m \u001b[0mexpect_reply\u001b[0m\u001b[0;34m=\u001b[0m\u001b[0;32mTrue\u001b[0m\u001b[0;34m\u001b[0m\u001b[0;34m\u001b[0m\u001b[0m\n\u001b[1;32m    175\u001b[0m   )\n\u001b[0;32m--> 176\u001b[0;31m   \u001b[0;32mreturn\u001b[0m \u001b[0mread_reply_from_input\u001b[0m\u001b[0;34m(\u001b[0m\u001b[0mrequest_id\u001b[0m\u001b[0;34m,\u001b[0m \u001b[0mtimeout_sec\u001b[0m\u001b[0;34m)\u001b[0m\u001b[0;34m\u001b[0m\u001b[0;34m\u001b[0m\u001b[0m\n\u001b[0m",
            "\u001b[0;32m/usr/local/lib/python3.11/dist-packages/google/colab/_message.py\u001b[0m in \u001b[0;36mread_reply_from_input\u001b[0;34m(message_id, timeout_sec)\u001b[0m\n\u001b[1;32m    101\u001b[0m     ):\n\u001b[1;32m    102\u001b[0m       \u001b[0;32mif\u001b[0m \u001b[0;34m'error'\u001b[0m \u001b[0;32min\u001b[0m \u001b[0mreply\u001b[0m\u001b[0;34m:\u001b[0m\u001b[0;34m\u001b[0m\u001b[0;34m\u001b[0m\u001b[0m\n\u001b[0;32m--> 103\u001b[0;31m         \u001b[0;32mraise\u001b[0m \u001b[0mMessageError\u001b[0m\u001b[0;34m(\u001b[0m\u001b[0mreply\u001b[0m\u001b[0;34m[\u001b[0m\u001b[0;34m'error'\u001b[0m\u001b[0;34m]\u001b[0m\u001b[0;34m)\u001b[0m\u001b[0;34m\u001b[0m\u001b[0;34m\u001b[0m\u001b[0m\n\u001b[0m\u001b[1;32m    104\u001b[0m       \u001b[0;32mreturn\u001b[0m \u001b[0mreply\u001b[0m\u001b[0;34m.\u001b[0m\u001b[0mget\u001b[0m\u001b[0;34m(\u001b[0m\u001b[0;34m'data'\u001b[0m\u001b[0;34m,\u001b[0m \u001b[0;32mNone\u001b[0m\u001b[0;34m)\u001b[0m\u001b[0;34m\u001b[0m\u001b[0;34m\u001b[0m\u001b[0m\n\u001b[1;32m    105\u001b[0m \u001b[0;34m\u001b[0m\u001b[0m\n",
            "\u001b[0;31mMessageError\u001b[0m: Error: credential propagation was unsuccessful"
          ]
        }
      ],
      "source": [
        "# # If you want to connect this notebook to your google drive, run this cell\n",
        "# # You should see your google drive folder as drive/MyDrive in the File tab on the left\n",
        "# from google.colab import drive\n",
        "# drive.mount('/content/drive')"
      ]
    },
    {
      "cell_type": "markdown",
      "metadata": {
        "id": "or_Zwb3T-yDW"
      },
      "source": [
        "### Preparing to use Google Earth Engine online DEM rasters\n",
        "\n",
        "- TouchTerrain uses Digital Elevation Model (DEM) data\n",
        "- You can either use online elevation data or a local elevation dataset (geotiff file)\n",
        "- if you only want to use terrain data from locally stored raster files (geotiffs), *you don't need to go through this authenticaton part!* Just jump directly to __Ready to go!__ You will get a warning about EE not being initialized properly *(WARNING:root:EE init() error (with .config/earthengine/credentials) Please authorize access to your Earth Engine account)* but you can ignore that.\n",
        "- TouchTerrain can use DEM data from Google Earth Engine (given the corners of the area), but you need to first set up an earth engine account and create Google cloud project. Note that this includes setting up a charge account, however, you will typically not be charged.\n",
        "- See this [guide](https://github.com/ChHarding/TouchTerrain_for_CAGEO/blob/master/EarthEngine_authentication_guide.md#request-a-earthengine-dev-account) for how to get an earth engine account.\n"
      ]
    },
    {
      "cell_type": "markdown",
      "metadata": {
        "id": "1-bLQjGS-yDX"
      },
      "source": [
        "### Authentication with Earth Engine\n",
        "- When you run the cell below for the first time, you will be asked to autheticate with EarthEngine\n",
        "\n",
        "- This text should appear and you should be redirected to a webpage:\n",
        "```\n",
        "To authorize access needed by Earth Engine, open the following URL in a web browser and follow the instructions. If the web browser does  not start automatically, please manually browse the URL below.\n",
        "```\n",
        "- The web page will have you select a Google account for use with Earth Engine and give you a token\n",
        "- Assuming you got your earth engine account, follow [this part of the guide](https://github.com/ChHarding/TouchTerrain_for_CAGEO/blob/master/EarthEngine_authentication_guide.md#generating-the-token) to get this token\n",
        "- Paste in your token here: `Enter verification code: <your token>` __and hit Enter(!)__, you should get `Successfully saved authorization token.`\n",
        "- This needs to be done once after the runtime was created (as it just needs to create a file)."
      ]
    },
    {
      "cell_type": "code",
      "execution_count": null,
      "metadata": {
        "id": "KcvlTunJ-yDX"
      },
      "outputs": [],
      "source": [
        "# Authenticates and initializes Earth Engine\n",
        "import ee\n",
        "\n",
        "try:\n",
        "    ee.Initialize()\n",
        "except Exception as e: # if the initialization didn't work, web authenticate first\n",
        "    ee.Authenticate()\n",
        "    ee.Initialize()"
      ]
    },
    {
      "cell_type": "markdown",
      "metadata": {
        "id": "DLUAf7igBOpR"
      },
      "source": [
        "# Ready to go!\n",
        "- You can now start running TouchTerrain standalone code, starting with importing python packages.\n",
        "- __Important:__ If you ever change runtimes or if your runtime times out, you have to __repeat installing everything from the top of this notebook again__ as your virtual hard drive got essentially wiped out and you need to install (and authorize) again!\n",
        "- In this event, do this: Use Edit - Clear all outputs, then go back to the very first cell and run through the installation and authorization again."
      ]
    },
    {
      "cell_type": "markdown",
      "metadata": {
        "id": "PhNvRhtJ-yDZ"
      },
      "source": [
        "### Importing python packages\n",
        "- Run the next cell, it'll import the required packages into Python, including Touchterrain\n",
        "- The earth engine package you imported and authorized earlier, will be initialized here.\n",
        "- If you plan to use online data and did authorize Earth Engine, you should see `EE init() worked with .config/earthengine/credentials`\n",
        "- If you don't plan on using online data (and therefore didn't authenticate Earth Engine) you will get a warning here, which you can ignore\n"
      ]
    },
    {
      "cell_type": "code",
      "execution_count": null,
      "metadata": {
        "id": "N2AxxiT2-yDa",
        "tags": []
      },
      "outputs": [],
      "source": [
        "# import packages\n",
        "import os.path\n",
        "from glob import glob\n",
        "from random import randint\n",
        "from shutil import rmtree\n",
        "import ee\n",
        "from geojson import Polygon\n",
        "import geemap\n",
        "from touchterrain.common import TouchTerrainEarthEngine as TouchTerrain\n",
        "from touchterrain.common.TouchTerrainGPX import *\n",
        "from os import getcwd, listdir\n",
        "args = TouchTerrain.initial_args # default args"
      ]
    },
    {
      "cell_type": "markdown",
      "metadata": {
        "id": "oVwXzNZv-yDa"
      },
      "source": [
        "## Define the values for processing settings\n",
        "- We now need to define the processing settings for the 3D model we want to create. Unlike the web app, they need to be set via Python variables.\n",
        "- The variable `args` will hold all processing settings. The __name__ of a setting  will be between [] and inside double quotes, the setting's __value__ will be to the right of the = . The value can be a number (120 or 0.4), a string (\"STLb\") or the special value `None`.\n",
        "- Example: `args[\"tilewidth\"] = 120`     will define the value of the setting named `tilewidth` to be 120\n",
        "\n",
        "### Comments\n",
        "- In Python, anything to the right of a `#` will be ignored.\n",
        "- You will often need comment out or uncomment a line of Python code.\n",
        "- A line starting with a `#` (no spaces before it) is said to be commented out, it will be entirely ignored. This a useful to temporarily deactivate the line and re-activate it again later.\n",
        "- To uncomment a line means to remove the leading `#`, again leaving no spaces before the first actual code letter. This makes the line valid code again.\n",
        "\n",
        "<div>\n",
        "\n",
        "- Example of commenting out a line of code and uncommenting it properly:\n",
        "```\n",
        "print(123)\n",
        "#print(123)\n",
        "print(123)\n",
        "```\n",
        "- Examples of bad commenting with a leading space. I'm using an underscore here for better visibility.\n",
        "```\n",
        "_#print(123)\n",
        "_print(123)\n",
        "```"
      ]
    },
    {
      "cell_type": "markdown",
      "metadata": {
        "id": "vuc-uGQI-yDa"
      },
      "source": [
        "### Use a locally stored geotiff DEM file instead of an online DEM\n",
        "__If you plan to use online Earth Engine data instead of a local geotiff file, skip this cell and go to *Select your print area*__\n",
        "- You may want create a terrain model from a geotiff DEM file that you've downloaded or created via a GIS. As TouchTerrain needs to import this file during processing, you first need to copy (upload) it via the jupyterLab File Manager.\n",
        "- Open the File Manager (left side) and drag your geotiff into the panel to upload it. Remember the file name for later\n",
        "- The installation also downloaded an example geotif file called geotiff_example.tif\n",
        "\n",
        "<div>\n",
        "\n",
        "- The cell below sets the value of __importedDEM__ to this path (e.g. `\"geotiff_example.tif\"`). To use your geotiff file, upload it to the current folder and replace this with it's name, e.g. `\"myDEM.tif\"` (make sure to use \"s around the filename!).\n",
        "- Hint: if you want to use a tif stored in your (connected) Google Drive, find it in the Files tab, right-click - Copy Path and paste this in below, e.g. `args[\"importedDEM\"] = \"/content/drive/MyDrive/DEMs/SanPedro.tif\"`\n",
        "- if you are using a local geotiff, skip _Select DEM source_ and _Select print area on geemap_ as the geotiff is your DEM source and  implicitly defines the print area. Go straight to _Setting the tile width_\n",
        "- if you do NOT want to use a local geotiff and want to use online DEM rasters instead, leave the value as `None`."
      ]
    },
    {
      "cell_type": "code",
      "execution_count": null,
      "metadata": {
        "id": "UWtTM6sP-yDa"
      },
      "outputs": [],
      "source": [
        "# Comment out one of following two lines:\n",
        "#args[\"importedDEM\"] =   \"geotiff_example.tif\" # path of the geotiff file to use\n",
        "args[\"importedDEM\"] = None  # no file used, use online DEM rasters instead\n",
        "\n",
        "# convert into an absolute path for later\n",
        "if args[\"importedDEM\"] != None:\n",
        "    args[\"importedDEM\"]= os.path.abspath(args[\"importedDEM\"])\n",
        "    print(\"Current folder\", getcwd(), \" contains\", listdir())\n",
        "    print(\"importedDEM\", args[\"importedDEM\"])"
      ]
    },
    {
      "cell_type": "markdown",
      "metadata": {
        "id": "B8ZoiziL-yDb"
      },
      "source": [
        "### Select the name of the DEM source (online elevation data)\n",
        "- Before you can select the actual print area, you need to select which online DEM source will be used. The setting is called `DEM_name`.\n",
        "- There are several options but for starters you only need to decide among two options:\n",
        "    - If your area is in the lower 48 US states, use `USGS/NED`\n",
        "    - Anywhere else on the globe use: `JAXA/ALOS/AW3D30/V2_2`\n",
        "    - (there are more DEM sources to choose from, see `DEM_name` [here](https://github.com/ChHarding/TouchTerrain_for_CAGEO#processing-parameters) )\n",
        "- Comment/uncomment the appropriate line in the cell below and hit Shift-Enter"
      ]
    },
    {
      "cell_type": "code",
      "execution_count": null,
      "metadata": {
        "id": "QChEoU5t-yDb"
      },
      "outputs": [],
      "source": [
        "# # Comment out one of the following two lines\n",
        "# args[\"DEM_name\"] = \"USGS/3DEP/10m\"  # area is within the lower 48 (US)\n",
        "# #args[\"DEM_name\"] = \"JAXA/ALOS/AW3D30/V2_2\"  # area is outside the US (worldwide)"
      ]
    },
    {
      "cell_type": "markdown",
      "metadata": {
        "id": "CP7Alq_P-yDb"
      },
      "source": [
        "### Import GPX path lines\n",
        "__This is more of an expert option. If you are just starting, skip this and go to the next cell__\n",
        "- You can drape one or more gpx (path) files over your terrain\n",
        "- Similar to importedDEM, the file names for the GPX file(s) are stored in the importedGPX setting.\n",
        "- However, as you can import more than one GPX file, you need to put the path name into a list, i.e. inside brackets, even if you just have a single GPX file! Separate multiple GPX files with commas:  \n",
        "    - `args[\"importedGPX\"] = [\"justonegpxfile.gpx\"]`  \n",
        "    - `args[\"importedGPX\"] = [\"file1.gpx\", \"file2.gpx\", \"file3.gpx\"]`\n",
        "- `gpxPathHeight` (in meters) defines how much a path is elevated above the terrain. Use a negative number to create a trench.\n",
        "- `gpxPixelsBetweenPoints` (in meters) lets you reduce the number of point in your path to place a point only every X meters. This can help to simplify complex patterns.\n",
        "- `gpxPathThickness` (meters) controls the thickness of the path, which makes it more pronouced when printed\n",
        "- There are several GPX example files in the stuff folder. To use them, uncomment the first 4 lines in the cell below and comment out the last line.\n",
        "- If you're not using GPX files, just leave the cell as is and run it. (Or you can skip it). Setting importedGPX to None means that no GPX files are imported.\n"
      ]
    },
    {
      "cell_type": "code",
      "execution_count": null,
      "metadata": {
        "id": "uVagzRxY-yDb"
      },
      "outputs": [],
      "source": [
        "args[\"gpxPathHeight\"] = 5\n",
        "args[\"gpxPixelsBetweenPoints\"] = 20\n",
        "args[\"gpxPathThickness\"] = 2\n",
        "\n",
        "# Comment out one of the following two lines\n",
        "#args[\"importedGPX\"] = [\"example_path.gpx\"] # list of one GPX file, for more, separate them with commas (see above)\n",
        "args[\"importedGPX\"] = None  # Do not use any GPX path files"
      ]
    },
    {
      "cell_type": "markdown",
      "metadata": {
        "id": "UPS8FhHk-yDc"
      },
      "source": [
        "## Select your print area\n",
        "- When using an online DEM, there are several ways to define the area you want to print. Use only one and skip the cells for the other two options. Then go to _Setting the tile width_\n",
        "- A)  Enter corner coordinates of a box into a code cell\n",
        "- B)  Use your mouse to digitize a box, circle or polygon on a geemap\n",
        "- C)  Load a kml file (typically created via Google Earth) that contains a single polygon\n",
        "\n",
        "\n",
        "### A) Select print area via lat/long coordinates of its corners (optional)\n",
        "- If you'd rather define your area through actual coordinates, change the default values in the cell below accordingly.\n",
        "- Note that you *must* give it the lat/long of the bottom left (South-West) corner and lat/long of the top right (North-East) corner!\n",
        "- After you've run the cell, skip B and C and jump straight to `Setting the tile width`"
      ]
    },
    {
      "cell_type": "code",
      "execution_count": null,
      "metadata": {
        "id": "wNvE9L_k-yDc"
      },
      "outputs": [],
      "source": [
        "# Bottom left corner\n",
        "args[\"bllat\"] = 39.322\n",
        "args[\"bllon\"] = -120.374\n",
        "\n",
        "# Top right corner coordinates\n",
        "args[\"trlat\"] = 39.457\n",
        "args[\"trlon\"] = -120.2"
      ]
    },
    {
      "cell_type": "markdown",
      "metadata": {
        "id": "Hvyb1xkx-yDc"
      },
      "source": [
        "### B) Select print area interactively via geemap\n",
        "- If you didn't use a local geotiff or set your the print area's corner coordinates, run the next cell to show an interactive map, from which you will select your print area.\n",
        "- Valid areas are covered by a grey hillshade layer in the background. If your desired area is not covered, go back and select the worldwide DEM source, and re-run the next cell.\n",
        "- If you're importing GPX files, they will show up on the map as cyan lines.\n",
        "- To find the desired print area, use left mouse drag to pan and mouse wheel (or +- buttons) to zoom in/out.\n",
        "- You can also use the search buttons (globe on top left or spyglass) which will place a marker at the result's location."
      ]
    },
    {
      "cell_type": "code",
      "execution_count": null,
      "metadata": {
        "id": "iUYhyLQ7-yDc"
      },
      "outputs": [],
      "source": [
        "# Create an interactive map and center on default area\n",
        "center_lat = (args[\"trlat\"] + args[\"bllat\"]) / 2\n",
        "center_lon = (args[\"trlon\"] + args[\"bllon\"]) / 2\n",
        "Map = geemap.Map(center=(center_lat, center_lon), zoom=7)\n",
        "\n",
        "# make a hillshade layer and add it to map\n",
        "dem = ee.Image(args[\"DEM_name\"]) # DEM source\n",
        "hs = ee.Terrain.hillshade(dem, 315, 35) # sun azimuth and angle\n",
        "vis_params = {'min': 0,'max': 255,} # greyscale color ramp\n",
        "Map.addLayer(hs, vis_params, 'hillshade', shown=True, opacity=0.5) # semi transparent overlay\n",
        "\n",
        "# if GPX files were used, add them to the map\n",
        "if args[\"importedGPX\"] != None and len(args[\"importedGPX\"]) > 0:\n",
        "        gpx = ee.Feature(convert_to_GeoJSON(args[\"importedGPX\"]))\n",
        "        Map.addLayer(gpx, {\"color\":'00FFFF', \"strokeWidth\":\"1\"}, \"GPX line\", opacity=0.9)\n",
        "\n",
        "Map # makes the interactive map show up as output of this cell"
      ]
    },
    {
      "cell_type": "markdown",
      "metadata": {
        "id": "nAoW7ZWr-yDd"
      },
      "source": [
        "- You could use the place search (click on upper left button, name/address or lat/long) or just fly around.\n",
        "- Once you found a good general area, hit a Draw button in the center left to digitize the exact outline of your terrain model.\n",
        "- Your options are: Draw a Polygon or Draw a Rectangle or Draw a Circle. __Do NOT use Draw a Marker or Draw a Polyline!__\n",
        "- Draw a Rectangle is the simplest method.\n",
        "- To remove it to draw an different outline, click on the trashcan. If you create multiple outlines, only the last one will be stored (see next cell).\n",
        "- Edit layer will let you edit a outline.\n",
        "- Once you're happy with your outline, run the cell below. It will store the (last) outline and use it to create your terrain model. If you change your mind, simply draw another outline and re-run the cell below, it will always take the most recent outline.\n",
        "- After running the cell below, skip C"
      ]
    },
    {
      "cell_type": "code",
      "execution_count": null,
      "metadata": {
        "id": "fiQlxsGe-yDd"
      },
      "outputs": [],
      "source": [
        "# make and store a GeoJSON polygon from (last) digitized outline\n",
        "polyft = Map.draw_last_feature # get last outline\n",
        "args[\"polygon\"] = Polygon(polyft.getInfo()['geometry']['coordinates'])\n",
        "print(\"Got it!\")"
      ]
    },
    {
      "cell_type": "markdown",
      "metadata": {
        "id": "K7FygKjh-yDd"
      },
      "source": [
        "### C) Using a KML file to define the outline of the area\n",
        "- Instead of digitizing an outline in the geemap, you could instead use a polygon stored in a kml file. You can digitize a polygon in Google Earth and store it as a kml file (NOT a kmz file!).\n",
        "- In File on the right and drag your kml file into the panel to upload it\n",
        "- Check that the kml file in the same folder as the notebook (should be in your content folder) and set `poly_file` to its location."
      ]
    },
    {
      "cell_type": "code",
      "execution_count": null,
      "metadata": {
        "id": "XBc5smDJ-yDd"
      },
      "outputs": [],
      "source": [
        "# If you uploaded a kml file, check that it shows up here:\n",
        "print(\"Current folder\", getcwd(), \" contains: \", listdir())\n",
        "\n",
        "# Comment out either this line:\n",
        "args[\"poly_file\"] = None # Don't use a kml file\n",
        "\n",
        "# or both of these lines:\n",
        "#args[\"poly_file\"] = \"polygon_example.kml\" # location of kml file to use\n",
        "#args[\"polygon\"] = None  # ensures that any gee polygon you might have digitized is not used"
      ]
    },
    {
      "cell_type": "markdown",
      "metadata": {
        "id": "4Cs_z8cT-yDd"
      },
      "source": [
        "### Setting the tile width\n",
        "- (If you used a local geotiff file as DEM, resume here)\n",
        "- The tilewidth setting defines how (physically) large the selected print area will be after it's been printed. Units are in mm.\n",
        "- By width, we mean the extent of your model in the East-West direction. The height will be automatically calculated based on the area you selected earlier.\n",
        "- Change the value in the cell below to your liking and hit Shift-Enter"
      ]
    },
    {
      "cell_type": "code",
      "execution_count": null,
      "metadata": {
        "id": "T7JB97z3-yDe"
      },
      "outputs": [],
      "source": [
        "args[\"tilewidth\"] = 150 # in mm"
      ]
    },
    {
      "cell_type": "markdown",
      "metadata": {
        "id": "zwBF0sGW-yDe"
      },
      "source": [
        "### Setting the number of tiles and their and setup  \n",
        "- It's possible to divide the print are into multiple tiles. This will results in several STL files instead of just one.\n",
        "- This is useful if you want to print several (smaller) tiles that each fit on you buildplate and later glue them together into one large model.\n",
        "- If you just want a single STL file, set both, ntilesx and ntilesy, to 1\n",
        "- For multiple tiles, decide how many tiles you want along East-West (ntilesx) and how many along North-South (ntilesy)"
      ]
    },
    {
      "cell_type": "code",
      "execution_count": null,
      "metadata": {
        "id": "l8cG0iUL-yDe"
      },
      "outputs": [],
      "source": [
        "args[\"ntilesx\"] = 1 # number of tiles in x\n",
        "args[\"ntilesy\"] = 1 # number of tiles in y"
      ]
    },
    {
      "cell_type": "markdown",
      "metadata": {
        "id": "rrUojwyh-yDe"
      },
      "source": [
        "### Setting the Base thickness (in mm)\n",
        "- The basethick setting determines how much material is put beneath the thinnest part to the terrain print\n",
        "- Use a value of at least 0.5 mm, more if you want a beefier base"
      ]
    },
    {
      "cell_type": "code",
      "execution_count": null,
      "metadata": {
        "id": "Uvd-mO9u-yDe"
      },
      "outputs": [],
      "source": [
        "args[\"basethick\"] = 0.6 # in mm"
      ]
    },
    {
      "cell_type": "markdown",
      "metadata": {
        "id": "ZkE4uSKY-yDe"
      },
      "source": [
        "### Setting the print resolution\n",
        "- Set this value to the diameter of you nozzle size or slightly below.\n",
        "- Tinker with this only if you know what you're doing. This setting defines how much of the fine details the STL file will contain. The detail you're realistically able to print is limited by your nozzle size. If you set setting much lower than your nozzle size, the STL file will be needlessly large, the slicer will take longer but your print will come out the same as if you had used approximately your nozzle size.\n",
        "- In almost all cases, 0.4 mm will be fine for 3D printers.\n",
        "- If you are using a local geofiff file, setting this to -1 will use the native resolution of the geotiff. This is typically overkill b/c of the nozzle limitation and may lead to huge models that may be too much for you system to handle!"
      ]
    },
    {
      "cell_type": "code",
      "execution_count": null,
      "metadata": {
        "id": "EB1DQWeK-yDf"
      },
      "outputs": [],
      "source": [
        "args[\"printres\"] = 0.4 # in mm"
      ]
    },
    {
      "cell_type": "markdown",
      "metadata": {
        "id": "UEYznEG3-yDf"
      },
      "source": [
        "### Setting the z-scale (elevation exaggeration factor)\n",
        "- To print the terrain in its \"true\" form (without any vertical scaling applied), set zscale to 1.0. This works well for terrain with great elevation differences, such as the Grand Canyon or Mt. Fuji\n",
        "- Most other terrain usual benefits from a z-scale larger than 1. For gentle hills, use 1.5 to 2.5. For cities use 2.5 to 6. For river deltas and other low relief areas use up to 10.\n",
        "- The height of your printed terrain should be at least 20 - 30 mm high to show good detail. You can check the processing log for `top min/max`, max should be least 20 - 30 mm. If this is too low, use a higher zscale and process again.\n",
        "- Alternatively, you can set this to a __negative number__ which will be interpreted as the desired height of the tallest terrain point in mm. Examples:  -12.7 means \"make 1/2 inch tall\", -20 means \"make 20 mm tall\", etc."
      ]
    },
    {
      "cell_type": "code",
      "execution_count": null,
      "metadata": {
        "id": "dHWNbT5_-yDf"
      },
      "outputs": [],
      "source": [
        "args[\"zscale\"] = -20 # elevation scale factor"
      ]
    },
    {
      "cell_type": "markdown",
      "metadata": {
        "id": "cRYHbqSe-yDf"
      },
      "source": [
        "### Set the name of your terrain model zipfile\n",
        "- Once a STL file of your terrain model has been created, it will be zipped into a zipfile and copied into the tmp folder. The zipfile also contains a log file and a geotiff.\n",
        "- It's often a good idea to give the zipfile a name that reflects the terrain, e.g. grand_canyon.zipfile\n",
        "- Set zip_file_name to the name of your zipfile. Dot not add the .zip extension, this will be done automatically\n",
        "- With Jupyterlab, right click on the zip file and choose Download from the pulldown"
      ]
    },
    {
      "cell_type": "code",
      "execution_count": null,
      "metadata": {
        "id": "AxNmSuDs-yDf"
      },
      "outputs": [],
      "source": [
        "args[\"zip_file_name\"] = \"myterrain\" # terrain model will be inside tmp/myterrain.zip"
      ]
    },
    {
      "cell_type": "markdown",
      "metadata": {
        "id": "JAoYHxPW-yDf"
      },
      "source": [
        "### Other settings\n",
        "- There are several more expert settings which you can skip unless you have specific requirements for more complex operations.\n",
        "- If you're interested, look here: https://github.com/ChHarding/TouchTerrain_for_CAGEO#processing-parameters, then put your code in the cell below and run it.\n",
        "- Here are some examples of possible expert setting.\n",
        "- The syntaxt is always: `args[\"name_of_setting\"] = value_of_setting`\n",
        "  - make sure that name_of setting is always between double quotes (it's a string)\n",
        "  - value_of_setting can be a whole number, a decimal number or some text (text must again be surrounded by double quotes!)\n"
      ]
    },
    {
      "cell_type": "code",
      "execution_count": null,
      "metadata": {
        "id": "lXPJO5rriWWw"
      },
      "outputs": [],
      "source": [
        "# Examples of expert settings:\n",
        "\n",
        "# remove all raster cells that are equal or lower than 0\n",
        "#args[\"ignore_leq\"] = 0\n",
        "\n",
        "# lower raster cells that are equal or lower than 0 by 3 m\n",
        "#args[\"lower_leq\"] = [0, 3]  #[0, 3] is a list with 2 values\n",
        "\n",
        "# set projection to ESPG code 3857 (Web mercator)\n",
        "#args[\"projection\"] = 3857\n",
        "\n",
        "# Switch off border smoothing for models with polygon borders (True by default)\n",
        "#args[\"smooth_borders\"] = False\n",
        "\n",
        "# define a polygon border via lat/long coordinates\n",
        "args[\"poly\"] = {\"type\": \"Polygon\", \"coordinates\": [[[30, 10], [40, 40], [20, 40], [10, 20], [30, 10]]]}  # {} means value is a dictionary\n",
        "\n",
        "# save output as geotiff only\n",
        "#args[\"file_format\"] = \"GeoTiff\"\n",
        "#-------------------------------------------------------------------------------------------\n",
        "\n",
        "# your code here:\n"
      ]
    },
    {
      "cell_type": "markdown",
      "metadata": {
        "id": "jh0gnsiw-fdP"
      },
      "source": [
        "## Print the values for all settings\n",
        "- this can be useful for checking if you forgot to set something"
      ]
    },
    {
      "cell_type": "code",
      "execution_count": null,
      "metadata": {
        "id": "8ate_0ed-yDg"
      },
      "outputs": [],
      "source": [
        "for name in args:\n",
        "    print(name, args[name])"
      ]
    },
    {
      "cell_type": "markdown",
      "metadata": {
        "id": "LaaY7L3M-yDg"
      },
      "source": [
        "## Generating the STL model file\n",
        "- Running the next cell will convert the DEM (either from a local geotiff file or from a Google Earth online DEM source) into STL file and put it inside a zipfile in the tmp folder. You will also get a log file and the geotiff that was processed.\n",
        "- This may take some time and the tmp folder may not show up immediately after the cell finishes.\n",
        "- During processing you'll see messages. Those messages will also be in the logfile inside the zip, and may be useful later."
      ]
    },
    {
      "cell_type": "code",
      "execution_count": null,
      "metadata": {
        "id": "bct9ovF_-yDg"
      },
      "outputs": [],
      "source": [
        "# create zipfile under tmp with the STL file of the terrain model\n",
        "totalsize, full_zip_file_name = TouchTerrain.get_zipped_tiles(**args)\n",
        "print(\"Created zip file\", full_zip_file_name,  \"%.2f\" % totalsize, \"Mb\")"
      ]
    },
    {
      "cell_type": "markdown",
      "metadata": {
        "id": "0gb3YtSXlqSg"
      },
      "source": [
        "## Unzip the zip file\n",
        "- This will unzip the zip file created earlier in a folder with the same name\n",
        "- This makes it easier quickly look into the logfile in colab (just double-click on it) or to directly download the STL (Right-click - Download)\n",
        "- The original zip file is still there, in case you want to download it\n"
      ]
    },
    {
      "cell_type": "code",
      "execution_count": null,
      "metadata": {
        "id": "MuhQXwFnlpMV"
      },
      "outputs": [],
      "source": [
        "folder, file = os.path.splitext(full_zip_file_name) # get folder of zip file\n",
        "\n",
        "# unzip the zipfile into the folder it's already in\n",
        "import zipfile\n",
        "zip_ref = zipfile.ZipFile(full_zip_file_name, 'r')\n",
        "zip_ref.extractall(folder)\n",
        "zip_ref.close()\n",
        "print (\"unzipped files from\", full_zip_file_name, \"into the folder\", folder)\n",
        "print (folder, \"contains these files:\")\n",
        "for f in glob(folder + os.sep + \"*.*\"): print(\" \", f)"
      ]
    },
    {
      "cell_type": "markdown",
      "metadata": {
        "id": "5uPA1pGk-yDg"
      },
      "source": [
        "## Final thoughts\n",
        "- Sadly k3d doesn't seem to work in Colab, so you cannot preview your model here :(\n",
        "- To download your file(s): Click on the *Files* icon on the very left to your notebook and then double-click on _tmp_\n",
        "- Right-click on the the zip-file or a file in the folder you unzipped to and go to Download\n",
        "- To preview your stl file, you could use use this <a href=\"https://stlviewer.kwebpia.net/\" target=\"_blank\">Online viewer</a>. Just drop your downloaded stl file into it.\n",
        "- (Disclaimer: I'm not affiliated with them and there may be other/better viewers out there. On Windows an app called __3D Builder__ seems to work well.)\n"
      ]
    },
    {
      "cell_type": "code",
      "execution_count": null,
      "metadata": {
        "id": "Kdj6c-HVxW3Y"
      },
      "outputs": [],
      "source": []
    }
  ],
  "metadata": {
    "accelerator": "GPU",
    "colab": {
      "provenance": []
    },
    "gpuClass": "standard",
    "kernelspec": {
      "display_name": "Python 3.10.6 64-bit",
      "language": "python",
      "name": "python3"
    },
    "language_info": {
      "codemirror_mode": {
        "name": "ipython",
        "version": 3
      },
      "file_extension": ".py",
      "mimetype": "text/x-python",
      "name": "python",
      "nbconvert_exporter": "python",
      "pygments_lexer": "ipython3",
      "version": "3.10.9"
    },
    "varInspector": {
      "cols": {
        "lenName": 16,
        "lenType": 16,
        "lenVar": 40
      },
      "kernels_config": {
        "python": {
          "delete_cmd_postfix": "",
          "delete_cmd_prefix": "del ",
          "library": "var_list.py",
          "varRefreshCmd": "print(var_dic_list())"
        },
        "r": {
          "delete_cmd_postfix": ") ",
          "delete_cmd_prefix": "rm(",
          "library": "var_list.r",
          "varRefreshCmd": "cat(var_dic_list()) "
        }
      },
      "types_to_exclude": [
        "module",
        "function",
        "builtin_function_or_method",
        "instance",
        "_Feature"
      ],
      "window_display": false
    },
    "vscode": {
      "interpreter": {
        "hash": "b1be0222797457612977eb3eaa00946922d56583fa52c09202534133b3ce7849"
      }
    }
  },
  "nbformat": 4,
  "nbformat_minor": 0
}